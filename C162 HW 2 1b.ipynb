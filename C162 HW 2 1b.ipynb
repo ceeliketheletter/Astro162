{
 "cells": [
  {
   "cell_type": "markdown",
   "metadata": {},
   "source": [
    "# Plot dv(r) as a function of r"
   ]
  },
  {
   "cell_type": "code",
   "execution_count": 76,
   "metadata": {},
   "outputs": [
    {
     "name": "stdout",
     "output_type": "stream",
     "text": [
      "50\n",
      "50\n",
      "inf\n"
     ]
    },
    {
     "data": {
      "image/png": "[encoded data removed]",
      "text/plain": [
       "<Figure size 432x288 with 1 Axes>"
      ]
     },
     "metadata": {},
     "output_type": "display_data"
    }
   ],
   "source": [
    "import numpy as np\n",
    "import matplotlib.pyplot as plt\n",
    "\n",
    "G = 6.67408e-11 #m3/kg s^2\n",
    "m_Earth = 5.972e24 #kg\n",
    "m_sun = 1.989e30 #kg\n",
    "R_earth = 6.371008e6 #meters\n",
    "\n",
    "r1 = 1.505e11 #meters  distance from earth to sun\n",
    "\n",
    "r = np.linspace(0.5,45)\n",
    "print(len(r))\n",
    "\n",
    "#plot = []\n",
    "\n",
    "#for r2 in range(len(r)):\n",
    "    \n",
    "#    dvr = np.sqrt(G) * (((np.sqrt(2*G*m_Earth) - np.sqrt(2*r1*m_sun))/ np.sqrt(r1 - r2) ) + (np.sqrt(m_sun) / np.sqrt(r2)) - (np.sqrt(m_sun) / np.sqrt(r1)) + np.sqrt((2*m_Earth)/R_earth)) \n",
    "#    plot.append(dvr)\n",
    "    \n",
    "#print(np.max(plot))\n",
    "#plt.plot(r, np.abs(plot))\n",
    "#plt.show()\n",
    "\n",
    "plot_1 = []\n",
    "\n",
    "for r2 in range(1, len(r)+1):\n",
    "    v1_1 = (np.sqrt((G * m_Earth) / r1))\n",
    "    v1_2 = abs(np.sqrt(abs((2 * r2 / (r1 + r2))-1)))\n",
    "    v1 = v1_1 * v1_2\n",
    "    \n",
    "    \n",
    "    v2 = np.sqrt(G * m_sun / r2)* (1 - np.sqrt((2*r1)/(r1 + r2)))\n",
    "    vesc = np.sqrt(2*G * m_Earth / R_earth)\n",
    "    dvr = v1 + v2 + vesc\n",
    "    plot_1.append(dvr)\n",
    "    \n",
    "    #print(dvr)\n",
    "\n",
    "print(len(plot_1))\n",
    "print(np.max(plot))\n",
    "plt.plot(r, plot_1)\n",
    "plt.show()"
   ]
  },
  {
   "cell_type": "code",
   "execution_count": null,
   "metadata": {},
   "outputs": [],
   "source": []
  },
  {
   "cell_type": "code",
   "execution_count": null,
   "metadata": {},
   "outputs": [],
   "source": [
    "from sypy import var, plot_implicit\n",
    "me = 5.972e24\n",
    "mm = 7.348e22\n",
    "\n",
    "Mu1 = me/(me+mm)\n",
    "Mu2 = mm/(me+mm)\n",
    "\n",
    "Cj = (-Mu2 + 1/2)**2 + 3/4 + 2*(Mu1*(3/4 + (-Mu2 + 1/2)))"
   ]
  }
 ],
 "metadata": {
  "kernelspec": {
   "display_name": "Python 3",
   "language": "python",
   "name": "python3"
  },
  "language_info": {
   "codemirror_mode": {
    "name": "ipython",
    "version": 3
   },
   "file_extension": ".py",
   "mimetype": "text/x-python",
   "name": "python",
   "nbconvert_exporter": "python",
   "pygments_lexer": "ipython3",
   "version": "3.6.5"
  }
 },
 "nbformat": 4,
 "nbformat_minor": 2
}
